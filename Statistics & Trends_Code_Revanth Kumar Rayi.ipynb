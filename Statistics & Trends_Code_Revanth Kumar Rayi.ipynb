{
 "cells": [
  {
   "cell_type": "markdown",
   "metadata": {},
   "source": [
    "## Importing Libraries"
   ]
  },
  {
   "cell_type": "code",
   "execution_count": 1,
   "metadata": {},
   "outputs": [],
   "source": [
    "import pandas as pd\n",
    "import matplotlib.pyplot as plt\n",
    "import seaborn as sns\n",
    "import numpy as np\n",
    "from scipy.stats import skew, kurtosis"
   ]
  },
  {
   "cell_type": "markdown",
   "metadata": {},
   "source": [
    "## Read and Display the dataset"
   ]
  },
  {
   "cell_type": "code",
   "execution_count": 2,
   "metadata": {},
   "outputs": [
    {
     "data": {
      "text/html": [
       "<div>\n",
       "<style scoped>\n",
       "    .dataframe tbody tr th:only-of-type {\n",
       "        vertical-align: middle;\n",
       "    }\n",
       "\n",
       "    .dataframe tbody tr th {\n",
       "        vertical-align: top;\n",
       "    }\n",
       "\n",
       "    .dataframe thead th {\n",
       "        text-align: right;\n",
       "    }\n",
       "</style>\n",
       "<table border=\"1\" class=\"dataframe\">\n",
       "  <thead>\n",
       "    <tr style=\"text-align: right;\">\n",
       "      <th></th>\n",
       "      <th>Position</th>\n",
       "      <th>Batsman</th>\n",
       "      <th>Matches</th>\n",
       "      <th>Innings</th>\n",
       "      <th>Runs</th>\n",
       "      <th>Average</th>\n",
       "      <th>Strike_rate</th>\n",
       "      <th>Fours</th>\n",
       "      <th>Sixes</th>\n",
       "    </tr>\n",
       "  </thead>\n",
       "  <tbody>\n",
       "    <tr>\n",
       "      <th>0</th>\n",
       "      <td>1</td>\n",
       "      <td>Rahmanullah Gurbaz</td>\n",
       "      <td>8</td>\n",
       "      <td>8</td>\n",
       "      <td>281</td>\n",
       "      <td>35.12</td>\n",
       "      <td>124.34</td>\n",
       "      <td>18</td>\n",
       "      <td>16</td>\n",
       "    </tr>\n",
       "    <tr>\n",
       "      <th>1</th>\n",
       "      <td>2</td>\n",
       "      <td>Rohit Sharma</td>\n",
       "      <td>8</td>\n",
       "      <td>8</td>\n",
       "      <td>257</td>\n",
       "      <td>36.71</td>\n",
       "      <td>156.71</td>\n",
       "      <td>24</td>\n",
       "      <td>15</td>\n",
       "    </tr>\n",
       "    <tr>\n",
       "      <th>2</th>\n",
       "      <td>3</td>\n",
       "      <td>Travis Head</td>\n",
       "      <td>7</td>\n",
       "      <td>7</td>\n",
       "      <td>255</td>\n",
       "      <td>42.50</td>\n",
       "      <td>158.39</td>\n",
       "      <td>26</td>\n",
       "      <td>15</td>\n",
       "    </tr>\n",
       "    <tr>\n",
       "      <th>3</th>\n",
       "      <td>4</td>\n",
       "      <td>Quinton de Kock</td>\n",
       "      <td>9</td>\n",
       "      <td>9</td>\n",
       "      <td>243</td>\n",
       "      <td>27.00</td>\n",
       "      <td>140.46</td>\n",
       "      <td>21</td>\n",
       "      <td>13</td>\n",
       "    </tr>\n",
       "    <tr>\n",
       "      <th>4</th>\n",
       "      <td>5</td>\n",
       "      <td>Ibrahim Zadran</td>\n",
       "      <td>8</td>\n",
       "      <td>8</td>\n",
       "      <td>231</td>\n",
       "      <td>28.88</td>\n",
       "      <td>107.44</td>\n",
       "      <td>25</td>\n",
       "      <td>4</td>\n",
       "    </tr>\n",
       "  </tbody>\n",
       "</table>\n",
       "</div>"
      ],
      "text/plain": [
       "   Position             Batsman  Matches  Innings  Runs  Average  Strike_rate  \\\n",
       "0         1  Rahmanullah Gurbaz        8        8   281    35.12       124.34   \n",
       "1         2        Rohit Sharma        8        8   257    36.71       156.71   \n",
       "2         3         Travis Head        7        7   255    42.50       158.39   \n",
       "3         4     Quinton de Kock        9        9   243    27.00       140.46   \n",
       "4         5      Ibrahim Zadran        8        8   231    28.88       107.44   \n",
       "\n",
       "   Fours  Sixes  \n",
       "0     18     16  \n",
       "1     24     15  \n",
       "2     26     15  \n",
       "3     21     13  \n",
       "4     25      4  "
      ]
     },
     "execution_count": 2,
     "metadata": {},
     "output_type": "execute_result"
    }
   ],
   "source": [
    "batting_men_df = pd.read_csv(\"batting_stats.csv\")\n",
    "batting_men_df.head()"
   ]
  },
  {
   "cell_type": "code",
   "execution_count": 3,
   "metadata": {},
   "outputs": [
    {
     "data": {
      "text/html": [
       "<div>\n",
       "<style scoped>\n",
       "    .dataframe tbody tr th:only-of-type {\n",
       "        vertical-align: middle;\n",
       "    }\n",
       "\n",
       "    .dataframe tbody tr th {\n",
       "        vertical-align: top;\n",
       "    }\n",
       "\n",
       "    .dataframe thead th {\n",
       "        text-align: right;\n",
       "    }\n",
       "</style>\n",
       "<table border=\"1\" class=\"dataframe\">\n",
       "  <thead>\n",
       "    <tr style=\"text-align: right;\">\n",
       "      <th></th>\n",
       "      <th>Position</th>\n",
       "      <th>Bowler</th>\n",
       "      <th>Matches</th>\n",
       "      <th>Overs</th>\n",
       "      <th>Balls</th>\n",
       "      <th>Wickets</th>\n",
       "      <th>Economy</th>\n",
       "      <th>Runs</th>\n",
       "    </tr>\n",
       "  </thead>\n",
       "  <tbody>\n",
       "    <tr>\n",
       "      <th>0</th>\n",
       "      <td>1</td>\n",
       "      <td>Fazalhaq Farooqi</td>\n",
       "      <td>8</td>\n",
       "      <td>25.2</td>\n",
       "      <td>152</td>\n",
       "      <td>17</td>\n",
       "      <td>9.41</td>\n",
       "      <td>160</td>\n",
       "    </tr>\n",
       "    <tr>\n",
       "      <th>1</th>\n",
       "      <td>2</td>\n",
       "      <td>Arshdeep Singh</td>\n",
       "      <td>8</td>\n",
       "      <td>30.0</td>\n",
       "      <td>180</td>\n",
       "      <td>17</td>\n",
       "      <td>12.65</td>\n",
       "      <td>215</td>\n",
       "    </tr>\n",
       "    <tr>\n",
       "      <th>2</th>\n",
       "      <td>3</td>\n",
       "      <td>Jasprit Bumrah</td>\n",
       "      <td>8</td>\n",
       "      <td>29.4</td>\n",
       "      <td>178</td>\n",
       "      <td>15</td>\n",
       "      <td>8.27</td>\n",
       "      <td>124</td>\n",
       "    </tr>\n",
       "    <tr>\n",
       "      <th>3</th>\n",
       "      <td>4</td>\n",
       "      <td>Anrich Nortje</td>\n",
       "      <td>9</td>\n",
       "      <td>35.0</td>\n",
       "      <td>210</td>\n",
       "      <td>15</td>\n",
       "      <td>13.40</td>\n",
       "      <td>201</td>\n",
       "    </tr>\n",
       "    <tr>\n",
       "      <th>4</th>\n",
       "      <td>5</td>\n",
       "      <td>Rashid Khan</td>\n",
       "      <td>8</td>\n",
       "      <td>29.0</td>\n",
       "      <td>174</td>\n",
       "      <td>14</td>\n",
       "      <td>12.79</td>\n",
       "      <td>179</td>\n",
       "    </tr>\n",
       "  </tbody>\n",
       "</table>\n",
       "</div>"
      ],
      "text/plain": [
       "   Position            Bowler  Matches  Overs  Balls  Wickets  Economy  Runs\n",
       "0         1  Fazalhaq Farooqi        8   25.2    152       17     9.41   160\n",
       "1         2    Arshdeep Singh        8   30.0    180       17    12.65   215\n",
       "2         3    Jasprit Bumrah        8   29.4    178       15     8.27   124\n",
       "3         4     Anrich Nortje        9   35.0    210       15    13.40   201\n",
       "4         5       Rashid Khan        8   29.0    174       14    12.79   179"
      ]
     },
     "execution_count": 3,
     "metadata": {},
     "output_type": "execute_result"
    }
   ],
   "source": [
    "bowling_men_df = pd.read_csv(\"bowling_stats.csv\")\n",
    "bowling_men_df.head()"
   ]
  },
  {
   "cell_type": "markdown",
   "metadata": {},
   "source": [
    "## Graph per function"
   ]
  },
  {
   "cell_type": "code",
   "execution_count": 4,
   "metadata": {},
   "outputs": [
    {
     "data": {
      "image/png": "[encoded data removed]",
      "text/plain": [
       "<Figure size 720x432 with 1 Axes>"
      ]
     },
     "metadata": {
      "needs_background": "light"
     },
     "output_type": "display_data"
    },
    {
     "name": "stdout",
     "output_type": "stream",
     "text": [
      "Mean Batting Average: 34.47\n",
      "Mean Strike Rate: 139.84\n",
      "Correlation between Average and Strike Rate: 0.74\n"
     ]
    }
   ],
   "source": [
    "def create_scatterplot():\n",
    "    \"\"\"\n",
    "    Generates a scatter plot for batting performance, showing the relationship \n",
    "    between batting average and strike rate for each batsman. Each player's name \n",
    "    is annotated near their respective data point.\n",
    "\n",
    "    Returns:\n",
    "        matplotlib.figure.Figure: The figure object containing the scatter plot.\n",
    "    \"\"\"\n",
    "    plt.figure(figsize=(10, 6))\n",
    "    plt.scatter(batting_men_df['Average'], batting_men_df['Strike_rate'], alpha=1.0)\n",
    "\n",
    "    # Annotate each point with the batsman's name\n",
    "    for i, txt in enumerate(batting_men_df['Batsman']):\n",
    "        plt.annotate(\n",
    "            txt,\n",
    "            (batting_men_df['Average'].iloc[i], batting_men_df['Strike_rate'].iloc[i]),\n",
    "            xytext=(5, 5),\n",
    "            textcoords='offset points',\n",
    "            fontsize=8\n",
    "        )\n",
    "\n",
    "    plt.title('Batting Performance: Average vs Strike Rate')\n",
    "    plt.xlabel('Batting Average')\n",
    "    plt.ylabel('Strike Rate')\n",
    "    plt.grid(True, alpha=0.3)\n",
    "    \n",
    "    return plt.gcf()\n",
    "\n",
    "# Generate and display the scatter plot\n",
    "scatter_plot = create_scatterplot()\n",
    "plt.show()\n",
    "\n",
    "# Calculate relevant statistics\n",
    "average_mean = batting_men_df['Average'].mean()\n",
    "strike_rate_mean = batting_men_df['Strike_rate'].mean()\n",
    "correlation_avg_strike = batting_men_df['Average'].corr(batting_men_df['Strike_rate'])\n",
    "\n",
    "# Print the statistics for reference in the report\n",
    "print(f\"Mean Batting Average: {average_mean:.2f}\")\n",
    "print(f\"Mean Strike Rate: {strike_rate_mean:.2f}\")\n",
    "print(f\"Correlation between Average and Strike Rate: {correlation_avg_strike:.2f}\")"
   ]
  },
  {
   "cell_type": "code",
   "execution_count": 5,
   "metadata": {},
   "outputs": [
    {
     "data": {
      "image/png": "[encoded data removed]",
      "text/plain": [
       "<Figure size 864x432 with 1 Axes>"
      ]
     },
     "metadata": {
      "needs_background": "light"
     },
     "output_type": "display_data"
    },
    {
     "name": "stdout",
     "output_type": "stream",
     "text": [
      "Maximum Wickets Taken: 17\n",
      "Mean Wickets Taken: 13.27\n"
     ]
    }
   ],
   "source": [
    "def create_barchart():\n",
    "    \"\"\"\n",
    "    Generates a bar chart representing the number of wickets taken by each bowler\n",
    "    in the tournament.\n",
    "\n",
    "    Returns:\n",
    "        matplotlib.figure.Figure: The figure object containing the bar chart.\n",
    "    \"\"\"\n",
    "\n",
    "    # Generate the bar chart\n",
    "    plt.figure(figsize=(12, 6))\n",
    "    plt.bar(bowling_men_df['Bowler'], bowling_men_df['Wickets'])\n",
    "    plt.xticks(rotation=45, ha='right')\n",
    "    plt.title('Wickets Taken by Bowlers')\n",
    "    plt.xlabel('Bowler')\n",
    "    plt.ylabel('Wickets')\n",
    "    plt.tight_layout()\n",
    "    \n",
    "    return plt.gcf()\n",
    "\n",
    "# Generate and display the bar chart\n",
    "bar_chart = create_barchart()\n",
    "plt.show()\n",
    "\n",
    "# Calculate relevant statistics for the report\n",
    "max_wickets = bowling_men_df['Wickets'].max()\n",
    "mean_wickets = bowling_men_df['Wickets'].mean()\n",
    "\n",
    "# Print statistics for reference in the report\n",
    "print(f\"Maximum Wickets Taken: {max_wickets}\")\n",
    "print(f\"Mean Wickets Taken: {mean_wickets:.2f}\")\n"
   ]
  },
  {
   "cell_type": "code",
   "execution_count": 6,
   "metadata": {},
   "outputs": [
    {
     "data": {
      "image/png": "[encoded data removed]",
      "text/plain": [
       "<Figure size 720x576 with 2 Axes>"
      ]
     },
     "metadata": {
      "needs_background": "light"
     },
     "output_type": "display_data"
    }
   ],
   "source": [
    "def create_heatmap(bowling_men_df):\n",
    "    \"\"\"\n",
    "    Create a heatmap to visualize the correlation between various bowling statistics.\n",
    "\n",
    "    This function computes the correlation matrix for the following bowling metrics:\n",
    "    - Matches: The number of matches played by the bowler.\n",
    "    - Balls: The total number of balls bowled.\n",
    "    - Wickets: The total number of wickets taken.\n",
    "    - Economy: The economy rate, which is the average number of runs conceded per over.\n",
    "    - Runs: The total number of runs conceded.\n",
    "\n",
    "    A heatmap is generated to represent the correlations, with the color intensity indicating \n",
    "    the strength of the correlation between different statistics. The heatmap is annotated with \n",
    "    the correlation coefficients.\n",
    "    \n",
    "    Returns:\n",
    "    -------\n",
    "    matplotlib.figure.Figure\n",
    "        The figure object containing the heatmap.\n",
    "    \"\"\"\n",
    "    plt.figure(figsize=(10, 8))\n",
    "    numeric_cols = ['Matches', 'Balls', 'Wickets', 'Economy', 'Runs']\n",
    "    correlation_matrix = bowling_men_df[numeric_cols].corr()\n",
    "    \n",
    "    sns.heatmap(correlation_matrix, annot=True, cmap='coolwarm', center=0)\n",
    "    plt.title('Correlation Heatmap of Bowling Statistics')\n",
    "    plt.tight_layout()\n",
    "    return plt.gcf()\n",
    "\n",
    "# Generate and display the heatmap\n",
    "heatmap = create_heatmap(bowling_men_df)\n",
    "plt.show()"
   ]
  },
  {
   "cell_type": "markdown",
   "metadata": {},
   "source": [
    "## Statistics"
   ]
  },
  {
   "cell_type": "markdown",
   "metadata": {},
   "source": [
    "### Mean & Standard Deviation"
   ]
  },
  {
   "cell_type": "markdown",
   "metadata": {},
   "source": [
    "### describe() & corr() functions"
   ]
  },
  {
   "cell_type": "code",
   "execution_count": 8,
   "metadata": {},
   "outputs": [
    {
     "name": "stdout",
     "output_type": "stream",
     "text": [
      "Batting Statistics:\n",
      "        Position    Matches    Innings        Runs    Average  Strike_rate  \\\n",
      "count  15.000000  15.000000  15.000000   15.000000  15.000000    15.000000   \n",
      "mean    8.000000   7.800000   7.400000  212.800000  34.468667   139.838000   \n",
      "std     4.472136   0.861892   0.985611   35.877171   6.568579    19.168396   \n",
      "min     1.000000   6.000000   5.000000  169.000000  24.430000   102.420000   \n",
      "25%     4.500000   7.000000   7.000000  183.000000  28.655000   127.140000   \n",
      "50%     8.000000   8.000000   8.000000  214.000000  35.120000   140.460000   \n",
      "75%    11.500000   8.000000   8.000000  237.000000  40.125000   157.550000   \n",
      "max    15.000000   9.000000   9.000000  281.000000  43.800000   164.080000   \n",
      "\n",
      "           Fours      Sixes  \n",
      "count  15.000000  15.000000  \n",
      "mean   18.066667  11.133333  \n",
      "std     5.091543   3.700708  \n",
      "min     9.000000   4.000000  \n",
      "25%    15.000000   9.500000  \n",
      "50%    18.000000  10.000000  \n",
      "75%    21.500000  14.000000  \n",
      "max    26.000000  17.000000  \n"
     ]
    }
   ],
   "source": [
    "print(\"Batting Statistics:\")\n",
    "print(batting_men_df.describe())"
   ]
  },
  {
   "cell_type": "code",
   "execution_count": 9,
   "metadata": {},
   "outputs": [
    {
     "name": "stdout",
     "output_type": "stream",
     "text": [
      "\n",
      "Batting Correlations:\n",
      "                 Runs   Average  Strike_rate     Fours     Sixes\n",
      "Runs         1.000000  0.263036     0.112445  0.628455  0.622124\n",
      "Average      0.263036  1.000000     0.743819  0.232010  0.439597\n",
      "Strike_rate  0.112445  0.743819     1.000000  0.283076  0.423702\n",
      "Fours        0.628455  0.232010     0.283076  1.000000  0.010867\n",
      "Sixes        0.622124  0.439597     0.423702  0.010867  1.000000\n"
     ]
    }
   ],
   "source": [
    "print(\"\\nBatting Correlations:\")\n",
    "print(batting_men_df[['Runs', 'Average', 'Strike_rate', 'Fours', 'Sixes']].corr())"
   ]
  },
  {
   "cell_type": "markdown",
   "metadata": {},
   "source": [
    "### Skewness & Kurtosis"
   ]
  },
  {
   "cell_type": "code",
   "execution_count": 10,
   "metadata": {},
   "outputs": [
    {
     "name": "stdout",
     "output_type": "stream",
     "text": [
      "Batting Statistics Distribution Analysis:\n",
      "        Column  Skewness  Kurtosis                      Distribution_Type\n",
      "0         Runs     0.325    -1.051  approximately symmetric, light-tailed\n",
      "1      Average     0.068    -1.428  approximately symmetric, light-tailed\n",
      "2  Strike_rate    -0.560    -0.732              left-skewed, light-tailed\n"
     ]
    }
   ],
   "source": [
    "def analyze_distribution(data, columns):\n",
    "    \"\"\"\n",
    "    Calculate skewness and kurtosis for specified columns\n",
    "    \"\"\"\n",
    "    results = []\n",
    "    for col in columns:\n",
    "        sk = skew(data[col])\n",
    "        kt = kurtosis(data[col])  # Fisher kurtosis (normal = 0)\n",
    "        results.append({\n",
    "            'Column': col,\n",
    "            'Skewness': round(sk, 3),\n",
    "            'Kurtosis': round(kt, 3),\n",
    "            'Distribution_Type': interpret_distribution(sk, kt)\n",
    "        })\n",
    "    return pd.DataFrame(results)\n",
    "\n",
    "def interpret_distribution(sk, kt):\n",
    "    \"\"\"\n",
    "    Interpret the distribution based on skewness and kurtosis values\n",
    "    \"\"\"\n",
    "    interpretation = []\n",
    "    \n",
    "    # Skewness interpretation\n",
    "    if abs(sk) < 0.5:\n",
    "        interpretation.append(\"approximately symmetric\")\n",
    "    elif sk > 0:\n",
    "        interpretation.append(\"right-skewed\")\n",
    "    else:\n",
    "        interpretation.append(\"left-skewed\")\n",
    "    \n",
    "    # Kurtosis interpretation\n",
    "    if abs(kt) < 0.5:\n",
    "        interpretation.append(\"normal-tailed\")\n",
    "    elif kt > 0:\n",
    "        interpretation.append(\"heavy-tailed\")\n",
    "    else:\n",
    "        interpretation.append(\"light-tailed\")\n",
    "    \n",
    "    return \", \".join(interpretation)\n",
    "\n",
    "print(\"Batting Statistics Distribution Analysis:\")\n",
    "print(analyze_distribution(batting_men_df, ['Runs', 'Average', 'Strike_rate']))"
   ]
  }
 ],
 "metadata": {
  "kernelspec": {
   "display_name": "Python 3",
   "language": "python",
   "name": "python3"
  },
  "language_info": {
   "codemirror_mode": {
    "name": "ipython",
    "version": 3
   },
   "file_extension": ".py",
   "mimetype": "text/x-python",
   "name": "python",
   "nbconvert_exporter": "python",
   "pygments_lexer": "ipython3",
   "version": "3.8.5"
  }
 },
 "nbformat": 4,
 "nbformat_minor": 4
}
